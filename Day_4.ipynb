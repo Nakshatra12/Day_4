{
 "cells": [
  {
   "cell_type": "code",
   "execution_count": null,
   "id": "8013ebd0",
   "metadata": {},
   "outputs": [],
   "source": [
    "Introduction to list datatype :"
   ]
  },
  {
   "cell_type": "code",
   "execution_count": null,
   "id": "05fa521a",
   "metadata": {},
   "outputs": [],
   "source": [
    "Defination : A list is a collection of items defined in a particular order.\n",
    "Classification : lists are classifies as a mutable datatype ( which we can edit or alter)\n",
    "\n",
    "How to define the list....? [] ====> by using the square brackets we can define the lists.."
   ]
  },
  {
   "cell_type": "code",
   "execution_count": null,
   "id": "dfd59a17",
   "metadata": {},
   "outputs": [],
   "source": []
  },
  {
   "cell_type": "code",
   "execution_count": 1,
   "id": "59721e76",
   "metadata": {},
   "outputs": [],
   "source": [
    "students = ['nakshatra','bhavana','john',]"
   ]
  },
  {
   "cell_type": "code",
   "execution_count": 2,
   "id": "940a58c3",
   "metadata": {},
   "outputs": [
    {
     "name": "stdout",
     "output_type": "stream",
     "text": [
      "['nakshatra', 'bhavana', 'john']\n"
     ]
    }
   ],
   "source": [
    "print(students)"
   ]
  },
  {
   "cell_type": "code",
   "execution_count": 3,
   "id": "e7f177eb",
   "metadata": {},
   "outputs": [
    {
     "data": {
      "text/plain": [
       "list"
      ]
     },
     "execution_count": 3,
     "metadata": {},
     "output_type": "execute_result"
    }
   ],
   "source": [
    "type(students)"
   ]
  },
  {
   "cell_type": "code",
   "execution_count": null,
   "id": "eac1c981",
   "metadata": {},
   "outputs": [],
   "source": []
  },
  {
   "cell_type": "code",
   "execution_count": null,
   "id": "dd91d20e",
   "metadata": {},
   "outputs": [],
   "source": [
    "Introduction to indexing :\n",
    "The order is being maintained by using the concept of indexing\n",
    "0,1,2,3,4....."
   ]
  },
  {
   "cell_type": "code",
   "execution_count": null,
   "id": "934b4bfb",
   "metadata": {},
   "outputs": [],
   "source": []
  },
  {
   "cell_type": "code",
   "execution_count": null,
   "id": "f5755739",
   "metadata": {},
   "outputs": [],
   "source": [
    "# req : i want to access john name in the output...?"
   ]
  },
  {
   "cell_type": "code",
   "execution_count": null,
   "id": "9e18bf75",
   "metadata": {},
   "outputs": [],
   "source": []
  },
  {
   "cell_type": "code",
   "execution_count": 4,
   "id": "cf5ca06b",
   "metadata": {},
   "outputs": [
    {
     "name": "stdout",
     "output_type": "stream",
     "text": [
      "john\n"
     ]
    }
   ],
   "source": [
    "print(students[2])"
   ]
  },
  {
   "cell_type": "code",
   "execution_count": null,
   "id": "aaaf5f02",
   "metadata": {},
   "outputs": [],
   "source": []
  },
  {
   "cell_type": "code",
   "execution_count": null,
   "id": "2d8c8343",
   "metadata": {},
   "outputs": [],
   "source": [
    "# req : i want to access nakshatra name in the output...?"
   ]
  },
  {
   "cell_type": "code",
   "execution_count": null,
   "id": "7a0c6570",
   "metadata": {},
   "outputs": [],
   "source": []
  },
  {
   "cell_type": "code",
   "execution_count": 5,
   "id": "d3c59a7b",
   "metadata": {},
   "outputs": [
    {
     "name": "stdout",
     "output_type": "stream",
     "text": [
      "nakshatra\n"
     ]
    }
   ],
   "source": [
    "print(students[0])"
   ]
  },
  {
   "cell_type": "code",
   "execution_count": null,
   "id": "3a87d8a8",
   "metadata": {},
   "outputs": [],
   "source": []
  },
  {
   "cell_type": "code",
   "execution_count": null,
   "id": "e47c5bc3",
   "metadata": {},
   "outputs": [],
   "source": [
    "1. how to add new elements to the list\n",
    "2. how to modify the elements in a list \n",
    "3. how to delete the elements in a list "
   ]
  },
  {
   "cell_type": "code",
   "execution_count": null,
   "id": "5818c0b4",
   "metadata": {},
   "outputs": [],
   "source": []
  },
  {
   "cell_type": "code",
   "execution_count": 6,
   "id": "7076700d",
   "metadata": {},
   "outputs": [
    {
     "name": "stdout",
     "output_type": "stream",
     "text": [
      "['nakshatra', 'bhavana', 'john']\n"
     ]
    }
   ],
   "source": [
    "print(students)"
   ]
  },
  {
   "cell_type": "code",
   "execution_count": null,
   "id": "0deb1dd5",
   "metadata": {},
   "outputs": [],
   "source": []
  },
  {
   "cell_type": "code",
   "execution_count": null,
   "id": "ffbf9631",
   "metadata": {},
   "outputs": [],
   "source": [
    "# req : i want to add sandeep to the above list...?"
   ]
  },
  {
   "cell_type": "code",
   "execution_count": 7,
   "id": "ac4a6b47",
   "metadata": {},
   "outputs": [],
   "source": [
    "students.append('sandeep')"
   ]
  },
  {
   "cell_type": "code",
   "execution_count": 8,
   "id": "e12480d6",
   "metadata": {},
   "outputs": [
    {
     "name": "stdout",
     "output_type": "stream",
     "text": [
      "['nakshatra', 'bhavana', 'john', 'sandeep']\n"
     ]
    }
   ],
   "source": [
    "print(students)"
   ]
  },
  {
   "cell_type": "code",
   "execution_count": null,
   "id": "7733a634",
   "metadata": {},
   "outputs": [],
   "source": []
  },
  {
   "cell_type": "code",
   "execution_count": null,
   "id": "63868710",
   "metadata": {},
   "outputs": [],
   "source": [
    "# req : i want to add naveen to the above list...?"
   ]
  },
  {
   "cell_type": "code",
   "execution_count": 9,
   "id": "8ee0e08d",
   "metadata": {},
   "outputs": [],
   "source": [
    "students.append('naveen')"
   ]
  },
  {
   "cell_type": "code",
   "execution_count": 10,
   "id": "eb40857d",
   "metadata": {},
   "outputs": [
    {
     "name": "stdout",
     "output_type": "stream",
     "text": [
      "['nakshatra', 'bhavana', 'john', 'sandeep', 'naveen']\n"
     ]
    }
   ],
   "source": [
    "print(students)"
   ]
  },
  {
   "cell_type": "code",
   "execution_count": null,
   "id": "0c0bd192",
   "metadata": {},
   "outputs": [],
   "source": []
  },
  {
   "cell_type": "code",
   "execution_count": null,
   "id": "318358fb",
   "metadata": {},
   "outputs": [],
   "source": [
    "# req : i want to add jyothi in the 1st position...?"
   ]
  },
  {
   "cell_type": "code",
   "execution_count": 11,
   "id": "22fb4850",
   "metadata": {},
   "outputs": [],
   "source": [
    "students.insert(1,'jyothi')"
   ]
  },
  {
   "cell_type": "code",
   "execution_count": 12,
   "id": "dcacf3ee",
   "metadata": {},
   "outputs": [
    {
     "name": "stdout",
     "output_type": "stream",
     "text": [
      "['nakshatra', 'jyothi', 'bhavana', 'john', 'sandeep', 'naveen']\n"
     ]
    }
   ],
   "source": [
    "print(students)"
   ]
  },
  {
   "cell_type": "code",
   "execution_count": null,
   "id": "f7fe221b",
   "metadata": {},
   "outputs": [],
   "source": [
    "Interview question : what is the diff btw append and insert method in a list?"
   ]
  },
  {
   "cell_type": "code",
   "execution_count": null,
   "id": "00477ec1",
   "metadata": {},
   "outputs": [],
   "source": []
  },
  {
   "cell_type": "code",
   "execution_count": null,
   "id": "23f08498",
   "metadata": {},
   "outputs": [],
   "source": [
    "2. how to modify the elements in a list"
   ]
  },
  {
   "cell_type": "code",
   "execution_count": 13,
   "id": "6f59a857",
   "metadata": {},
   "outputs": [
    {
     "name": "stdout",
     "output_type": "stream",
     "text": [
      "['nakshatra', 'jyothi', 'bhavana', 'john', 'sandeep', 'naveen']\n"
     ]
    }
   ],
   "source": [
    "print(students)"
   ]
  },
  {
   "cell_type": "code",
   "execution_count": null,
   "id": "7342d6d2",
   "metadata": {},
   "outputs": [],
   "source": [
    "# req : i want to modify bhavana to bhavani"
   ]
  },
  {
   "cell_type": "code",
   "execution_count": 14,
   "id": "51e5869f",
   "metadata": {},
   "outputs": [],
   "source": [
    "students[2] = 'bhavani'"
   ]
  },
  {
   "cell_type": "code",
   "execution_count": 16,
   "id": "7177ef2f",
   "metadata": {},
   "outputs": [
    {
     "name": "stdout",
     "output_type": "stream",
     "text": [
      "['nakshatra', 'jyothi', 'bhavani', 'john', 'sandeep', 'naveen']\n"
     ]
    }
   ],
   "source": [
    "print(students)"
   ]
  },
  {
   "cell_type": "code",
   "execution_count": null,
   "id": "398b4a41",
   "metadata": {},
   "outputs": [],
   "source": []
  },
  {
   "cell_type": "code",
   "execution_count": null,
   "id": "49b37c8c",
   "metadata": {},
   "outputs": [],
   "source": [
    "3. how to delete the elements in a list "
   ]
  },
  {
   "cell_type": "code",
   "execution_count": null,
   "id": "c9af4504",
   "metadata": {},
   "outputs": [],
   "source": [
    "# req : i want to delete john from the list....?"
   ]
  },
  {
   "cell_type": "code",
   "execution_count": 17,
   "id": "680c485f",
   "metadata": {},
   "outputs": [],
   "source": [
    "del students[3]"
   ]
  },
  {
   "cell_type": "code",
   "execution_count": 18,
   "id": "ba813650",
   "metadata": {},
   "outputs": [
    {
     "name": "stdout",
     "output_type": "stream",
     "text": [
      "['nakshatra', 'jyothi', 'bhavani', 'sandeep', 'naveen']\n"
     ]
    }
   ],
   "source": [
    "print(students)"
   ]
  },
  {
   "cell_type": "code",
   "execution_count": null,
   "id": "dca086c5",
   "metadata": {},
   "outputs": [],
   "source": []
  }
 ],
 "metadata": {
  "kernelspec": {
   "display_name": "Python 3",
   "language": "python",
   "name": "python3"
  },
  "language_info": {
   "codemirror_mode": {
    "name": "ipython",
    "version": 3
   },
   "file_extension": ".py",
   "mimetype": "text/x-python",
   "name": "python",
   "nbconvert_exporter": "python",
   "pygments_lexer": "ipython3",
   "version": "3.6.13"
  }
 },
 "nbformat": 4,
 "nbformat_minor": 5
}
